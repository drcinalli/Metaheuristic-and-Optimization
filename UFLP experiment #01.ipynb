{
 "cells": [
  {
   "cell_type": "markdown",
   "metadata": {
    "slideshow": {
     "slide_type": "skip"
    }
   },
   "source": [
    "<img src=\"./img/logoconvexbrancomini2.png\"  align=\"right\"/>"
   ]
  },
  {
   "cell_type": "markdown",
   "metadata": {
    "slideshow": {
     "slide_type": "slide"
    },
    "toc-hr-collapsed": true
   },
   "source": [
    "<!--\n",
    "<img src=\"./img/logoconvexbrancomini2.png\"  align=\"right\"/>\n",
    "-->\n",
    "# Resource Allocation Problem\n",
    "\n",
    "<!--\n",
    "<img src=\"./img/logoboxverde.png\" align=\"right\"/>\n",
    "-->\n",
    "__by [Daniel Cinalli](http://www.cinalli.com.br)__ - DSc Artificial Intelligence\n",
    "\n",
    "## Uncapacitated Facility Location - Problem #01\n"
   ]
  },
  {
   "cell_type": "markdown",
   "metadata": {
    "slideshow": {
     "slide_type": "slide"
    }
   },
   "source": [
    "\n",
    "<br/><br/> \n",
    "## Notes:\n",
    "\n",
    "* Coded in Python 3.x\n",
    "* Using [Anaconda](https://www.anaconda.com/) is recommended\n",
    "* Run the notebook `online` at [binder](https://mybinder.org/v2/gh/drcinalli/Artificial-Intelligence-and-Transformation/master) [![Binder](https://mybinder.org/badge_logo.svg)](https://mybinder.org/v2/gh/drcinalli/Artificial-Intelligence-and-Transformation/master)\n",
    "<!-- * [nbviewer](https://nbviewer.jupyter.org/) allows you to switch the notebooks \"slides\" mode-->"
   ]
  },
  {
   "cell_type": "markdown",
   "metadata": {
    "slideshow": {
     "slide_type": "slide"
    }
   },
   "source": [
    "<br> </br>\n",
    "### Table of Contents\n",
    "\n",
    "- [Problem](#prob)\n",
    "- [Simplex](#simplex)\n",
    "- [Random Heuristic](#random)\n",
    "- [Lowest Shipping Cost (per Client) Heuristic](#lowShip)\n",
    "- [Greatest Shipping Cost (per Client) Heuristic](#maxShip)\n",
    "- [Lowest Shipping & Fixed Costs Heuristic](#lowShipFix)\n",
    "- [Greatest Shipping & Fixed Costs Heuristic](#maxShipFix)\n",
    "\n",
    "\n",
    "\n",
    "<br>\n",
    "<br>\n"
   ]
  },
  {
   "cell_type": "markdown",
   "metadata": {},
   "source": [
    "<a id='prob'></a>\n",
    "## Problem #01\n",
    "\n",
    "<br>\n",
    "Facilities <br>\n",
    "$|I| = 9$ \n",
    "<br>\n",
    "<br>\n",
    "Clients <br>\n",
    "$|J| = 2$ \n",
    "\n",
    "<br>\n",
    "<br>\n",
    "$\\alpha = 1$ (cost per mile of driving)\n",
    "\n",
    "<br>\n",
    "<br>\n",
    "<br>\n",
    "\n",
    "| Clients| Coordinates |  \n",
    "| --- | --- | \n",
    "| Client 1 | (0,1.5) |\n",
    "| Client 2 | (2.5,1.2) |\n",
    "\n",
    "<br>\n",
    "<br>\n",
    "\n",
    "| Facilities | Coordinates | Fixed Cost |\n",
    "| --- | --- |  --- |\n",
    "| Warehouse 1 | (0,0) | 3 |\n",
    "| Warehouse 2 | (0,1) | 2 |\n",
    "| Warehouse 3 | (0,2) | 3 |\n",
    "| Warehouse 4 | (1,0) | 1 |\n",
    "| Warehouse 5 | (1,1) | 3 | \n",
    "| Warehouse 6 | (1,2) | 3 |\n",
    "| Warehouse 7 | (2,0) | 4 |\n",
    "| Warehouse 8 | (2,1) | 3 |  \n",
    "| Warehouse 9 | (2,2) | 2 |\n",
    "\n",
    "\n",
    "<br> \n",
    "<br>\n"
   ]
  },
  {
   "cell_type": "markdown",
   "metadata": {},
   "source": [
    "<a id='simplex'></a>\n",
    "### Simplex (exact)\n",
    "\n"
   ]
  },
  {
   "cell_type": "code",
   "execution_count": 1,
   "metadata": {},
   "outputs": [
    {
     "name": "stdout",
     "output_type": "stream",
     "text": [
      "\n",
      "--------------------------------------------\n",
      "Warning: your license will expire in 8 days\n",
      "--------------------------------------------\n",
      "\n",
      "Using license file /Users/danielcinalli/gurobi.lic\n",
      "Academic license - for non-commercial use only - expires 2021-01-27\n",
      "Changed value of parameter Method to 1\n",
      "   Prev: -1  Min: -1  Max: 5  Default: -1\n",
      "Gurobi Optimizer version 9.1.0 build v9.1.0rc0 (mac64)\n",
      "Thread count: 2 physical cores, 4 logical processors, using up to 4 threads\n",
      "Optimize a model with 20 rows, 27 columns and 54 nonzeros\n",
      "Model fingerprint: 0x0939f503\n",
      "Variable types: 18 continuous, 9 integer (9 binary)\n",
      "Coefficient statistics:\n",
      "  Matrix range     [1e+00, 1e+00]\n",
      "  Objective range  [5e-01, 4e+00]\n",
      "  Bounds range     [1e+00, 1e+00]\n",
      "  RHS range        [1e+00, 1e+00]\n",
      "Presolve time: 0.06s\n",
      "Presolved: 20 rows, 27 columns, 54 nonzeros\n",
      "Variable types: 18 continuous, 9 integer (9 binary)\n",
      "\n",
      "Root relaxation: objective 4.723713e+00, 15 iterations, 0.01 seconds\n",
      "\n",
      "    Nodes    |    Current Node    |     Objective Bounds      |     Work\n",
      " Expl Unexpl |  Obj  Depth IntInf | Incumbent    BestBd   Gap | It/Node Time\n",
      "\n",
      "*    0     0               0       4.7237129    4.72371  0.00%     -    0s\n",
      "\n",
      "Explored 0 nodes (15 simplex iterations) in 0.18 seconds\n",
      "Thread count was 4 (of 4 available processors)\n",
      "\n",
      "Solution count 1: 4.72371 \n",
      "\n",
      "Optimal solution found (tolerance 1.00e-04)\n",
      "Best objective 4.723712908962e+00, best bound 4.723712908962e+00, gap 0.0000%\n",
      "TIME IS:  0.3427116870880127\n"
     ]
    }
   ],
   "source": [
    "from itertools import product\n",
    "from math import sqrt\n",
    "import gurobipy as gp\n",
    "from gurobipy import GRB\n",
    "import time\n",
    "\n",
    "\n",
    "##### Sets and Indices #####\n",
    "customers = [(0,1.5), (2.5,1.2)]\n",
    "facilities = [(0,0), (0,1), (0,2), (1,0), (1,1), (1,2), (2,0), (2,1), (2,2)]\n",
    "num_facilities = len(facilities)\n",
    "num_customers = len(customers)\n",
    "\n",
    "##### Parameters #####\n",
    "cost_per_mile = 1\n",
    "\n",
    "setup_cost = [3,2,3,1,3,3,4,3,2]\n",
    "# Euclidean distance between a facility and customer sites\n",
    "def compute_distance(loc1, loc2):\n",
    "    dx = loc1[0] - loc2[0]\n",
    "    dy = loc1[1] - loc2[1]\n",
    "    return sqrt(dx*dx + dy*dy)\n",
    "\n",
    "cartesian_prod = list(product(range(num_customers), range(num_facilities)))\n",
    "# shipping costs\n",
    "shipping_cost = {(c,f): cost_per_mile*compute_distance(customers[c], facilities[f]) for c, f in cartesian_prod}\n",
    "\n",
    "start = time.time()\n",
    "\n",
    "# MIP  model formulation\n",
    "m = gp.Model('UFLP')\n",
    "\n",
    "\n",
    "##### Decision Variable #####\n",
    "x = m.addVars(num_facilities, vtype=GRB.BINARY, name='x')\n",
    "y = m.addVars(cartesian_prod, ub=1, vtype=GRB.CONTINUOUS, name='y')\n",
    "\n",
    "##### Constraints #####\n",
    "m.addConstrs((y[(c,f)] <= x[f] for c,f in cartesian_prod), name='Shipping')\n",
    "m.addConstrs((gp.quicksum(y[(c,f)] for f in range(num_facilities)) == 1 for c in range(num_customers)), name='Demand')\n",
    "\n",
    "##### Objective Function #####\n",
    "m.setObjective(x.prod(setup_cost)+y.prod(shipping_cost), GRB.MINIMIZE)\n",
    "\n",
    "m.Params.Method = 1\n",
    "# Options are:-1=automatic, 0=primal simplex, 1=dual simplex, 2=barrier, 3=concurrent, 4=deterministic concurrent, 5=deterministic concurrent simplex\n",
    "\n",
    "m.optimize()\n",
    "\n",
    "end = time.time()\n",
    "print(\"TIME IS: \",end - start)"
   ]
  },
  {
   "cell_type": "code",
   "execution_count": 2,
   "metadata": {},
   "outputs": [
    {
     "name": "stdout",
     "output_type": "stream",
     "text": [
      "\n",
      "Build a warehouse at location 4.\n",
      "\n",
      "Client 1 receives 100.0 % of its demand  from Warehouse 4 .\n",
      "\n",
      "Client 2 receives 100.0 % of its demand  from Warehouse 4 .\n",
      "\n",
      "Optimal total: 4.72371290896185\n"
     ]
    }
   ],
   "source": [
    "# display optimal values of decision variables\n",
    "\n",
    "for facility in x.keys():\n",
    "    if (abs(x[facility].x) > 1e-6):\n",
    "        print(f\"\\nBuild a warehouse at location {facility + 1}.\")\n",
    "\n",
    "# Shipments from facilities to customers.\n",
    "\n",
    "for customer, facility in y.keys():\n",
    "    if (abs(y[customer, facility].x) > 1e-6):\n",
    "        print(f\"\\nClient {customer + 1} receives {round(100*y[customer, facility].x, 2)} % of its demand  from Warehouse {facility + 1} .\")\n",
    "\n",
    "#for v in m.getVars():\n",
    "#    print(v.varname, v.x)\n",
    "\n",
    "print(f\"\\nOptimal total:\", m.objVal)\n",
    "\n",
    "m.write('UFLP_01_Simplex.lp')"
   ]
  },
  {
   "cell_type": "markdown",
   "metadata": {},
   "source": [
    "<br>\n",
    "<br>\n",
    "\n",
    "<a id='random'></a>\n",
    "### Random Heuristic \n",
    "\n",
    "\n",
    "\n"
   ]
  },
  {
   "cell_type": "code",
   "execution_count": 3,
   "metadata": {},
   "outputs": [
    {
     "name": "stdout",
     "output_type": "stream",
     "text": [
      "[(0, 6), (1, 4)]\n",
      "7\n",
      "TIME IS:  0.0036728382110595703\n",
      "11.013274595042155\n",
      "TIME IS:  0.004930734634399414\n"
     ]
    }
   ],
   "source": [
    "#very naive/simple\n",
    "#for each client, choose randomly one of the Facilities available\n",
    "import random\n",
    "\n",
    "result=[]\n",
    "i=0\n",
    "\n",
    "start = time.time()\n",
    "\n",
    "#choose the Facility for each customer\n",
    "for w in customers:\n",
    "    result.append((i,random.randint(0, len(facilities)-1)))\n",
    "    i+=1\n",
    "\n",
    "#remove duplication of facilities in order to print properly\n",
    "facs=[]\n",
    "for i in result:\n",
    "    facs.append(i[1])\n",
    "facs=list(set(facs))\n",
    "    \n",
    "print(result)\n",
    "\n",
    "#calculate the setup_cost\n",
    "totalC=0\n",
    "for w in facs:\n",
    "    totalC += setup_cost[w]\n",
    "    #print(w)\n",
    "\n",
    "print(totalC)\n",
    "\n",
    "#calculate the shipping cost\n",
    "for i in result:\n",
    "    totalC += cost_per_mile*compute_distance(customers[i[0]], facilities[i[1]]) \n",
    "    \n",
    "end = time.time()\n",
    "print(\"TIME IS: \",end - start)\n",
    "\n",
    "print(totalC)\n",
    "\n",
    "end = time.time()\n",
    "print(\"TIME IS: \",end - start)\n"
   ]
  },
  {
   "cell_type": "code",
   "execution_count": 4,
   "metadata": {},
   "outputs": [
    {
     "name": "stdout",
     "output_type": "stream",
     "text": [
      "\n",
      "Build a warehouse at location 5.\n",
      "\n",
      "Build a warehouse at location 7.\n",
      "\n",
      "Client 1 receives 100% of its demand  from Warehouse 7 .\n",
      "\n",
      "Client 2 receives 100% of its demand  from Warehouse 5 .\n",
      "\n",
      "Optimal total: 11.013274595042155\n"
     ]
    }
   ],
   "source": [
    "for i in facs:\n",
    "    print(f\"\\nBuild a warehouse at location {i + 1}.\")\n",
    "\n",
    "for i in result:\n",
    "    print(f\"\\nClient {i[0] + 1} receives 100% of its demand  from Warehouse {i[1] + 1} .\")\n",
    "\n",
    "print(f\"\\nOptimal total:\", totalC)"
   ]
  },
  {
   "cell_type": "markdown",
   "metadata": {},
   "source": [
    "<a id='lowShip'></a>\n",
    "### Lowest Shipping Cost (per client) Heuristic\n",
    "\n"
   ]
  },
  {
   "cell_type": "code",
   "execution_count": 6,
   "metadata": {},
   "outputs": [
    {
     "name": "stdout",
     "output_type": "stream",
     "text": [
      "xxx\n",
      "{(0, 1): 0.5, (1, 7): 0.5385164807134504}\n",
      "xxx\n",
      "5\n",
      "0.5\n",
      "0.5385164807134504\n",
      "6.038516480713451\n",
      "TIME IS:  0.005958080291748047\n"
     ]
    }
   ],
   "source": [
    "#Get the lowest shipping cost for each Client\n",
    "\n",
    "start = time.time()\n",
    "#choose the lowest cost \n",
    "path={}\n",
    "for i in enumerate(customers):\n",
    "    aux={}\n",
    "    aux_key=()\n",
    "    for j in enumerate(facilities):\n",
    "\n",
    "        #empty list for the Client\n",
    "        if not aux:\n",
    "            aux[(i[0],j[0])] = shipping_cost.get((i[0],j[0])) \n",
    "            aux_key = ((i[0],j[0])) \n",
    "            #print(aux)\n",
    "            #print(aux_key)\n",
    "        elif aux[aux_key]>shipping_cost.get((i[0],j[0])):\n",
    "            #print(\"....\")\n",
    "            #print (i[0],j[0])\n",
    "            #print(aux[aux_key])\n",
    "            #print(shipping_cost.get((i[0],j[0])))\n",
    "            #print (\"  \")\n",
    "            aux.pop(aux_key)\n",
    "            aux[(i[0],j[0])] = shipping_cost.get((i[0],j[0]))             \n",
    "            aux_key = ((i[0],j[0]))\n",
    "            \n",
    "        #print(aux_key)\n",
    "    #print (\"xxxxxxx\")\n",
    "    path.update(aux)\n",
    "\n",
    "print(\"xxx\")\n",
    "print(path)    \n",
    "print(\"xxx\")\n",
    "#calculate the setup_cost\n",
    "facs=[]\n",
    "for i in path:\n",
    "    facs.append(i[1])\n",
    "facs=list(set(facs))\n",
    "#print (facs)\n",
    "\n",
    "totalC=0\n",
    "for w in facs:\n",
    "    totalC += setup_cost[w]\n",
    "    #print(w)\n",
    "\n",
    "print(totalC)\n",
    "\n",
    "#calculate the shipping cost\n",
    "for i in path.values():\n",
    "    print(i)\n",
    "    totalC += i \n",
    "    \n",
    "print(totalC)\n",
    "\n",
    "end = time.time()\n",
    "print(\"TIME IS: \",end - start)"
   ]
  },
  {
   "cell_type": "markdown",
   "metadata": {},
   "source": [
    "<a id='maxShip'></a>\n",
    "### Greatest Shipping Cost (per client) Heuristic\n",
    "\n"
   ]
  },
  {
   "cell_type": "code",
   "execution_count": 8,
   "metadata": {},
   "outputs": [
    {
     "name": "stdout",
     "output_type": "stream",
     "text": [
      "{(0, 6): 2.5, (1, 0): 2.773084924772409}\n",
      "[0, 6]\n",
      "7\n",
      "2.5\n",
      "2.773084924772409\n",
      "12.273084924772409\n",
      "TIME IS:  0.0017621517181396484\n"
     ]
    }
   ],
   "source": [
    "#Get the greatest shipping cost for each Client\n",
    "\n",
    "start = time.time()\n",
    "#choose the lowest cost \n",
    "path={}\n",
    "for i in enumerate(customers):\n",
    "    aux={}\n",
    "    aux_key=()\n",
    "    for j in enumerate(facilities):\n",
    "\n",
    "        #empty list for the Client\n",
    "        if not aux:\n",
    "            aux[(i[0],j[0])] = shipping_cost.get((i[0],j[0])) \n",
    "            aux_key = ((i[0],j[0])) \n",
    "            #print(aux)\n",
    "            #print(aux_key)\n",
    "        elif not aux[aux_key]>shipping_cost.get((i[0],j[0])):\n",
    "            #print(\"....\")\n",
    "            #print (i[0],j[0])\n",
    "            #print(aux[aux_key])\n",
    "            #print(shipping_cost.get((i[0],j[0])))\n",
    "            #print (\"  \")\n",
    "            aux.pop(aux_key)\n",
    "            aux[(i[0],j[0])] = shipping_cost.get((i[0],j[0]))             \n",
    "            aux_key = ((i[0],j[0]))\n",
    "            \n",
    "        #print(aux_key)\n",
    "    #print (\"xxxxxxx\")\n",
    "    path.update(aux)\n",
    "\n",
    "print(path)    \n",
    "\n",
    "#calculate the setup_cost\n",
    "facs=[]\n",
    "for i in path:\n",
    "    facs.append(i[1])\n",
    "facs=list(set(facs))\n",
    "#print (facs)\n",
    "\n",
    "totalC=0\n",
    "for w in facs:\n",
    "    totalC += setup_cost[w]\n",
    "    #print(w)\n",
    "print(facs)\n",
    "print(totalC)\n",
    "\n",
    "#calculate the shipping cost\n",
    "for i in path.values():\n",
    "    print(i)\n",
    "    totalC += i \n",
    "    \n",
    "print(totalC)\n",
    "\n",
    "end = time.time()\n",
    "print(\"TIME IS: \",end - start)\n"
   ]
  },
  {
   "cell_type": "markdown",
   "metadata": {},
   "source": [
    "<a id='lowShipFix'></a>\n",
    "### Lowest Shipping & Fixed Costs Heuristic\n",
    "\n"
   ]
  },
  {
   "cell_type": "code",
   "execution_count": 9,
   "metadata": {},
   "outputs": [
    {
     "name": "stdout",
     "output_type": "stream",
     "text": [
      "{(0, 1): 2.5, (1, 3): 2.920937271229855}\n",
      "facs:  [1, 3]\n",
      "3\n",
      "2.5\n",
      "2.920937271229855\n",
      "8.420937271229855\n",
      "TIME IS:  0.0019969940185546875\n"
     ]
    }
   ],
   "source": [
    "#Get the lowest shipping cost and lowest fixed cost \n",
    "\n",
    "start = time.time()\n",
    "#choose the lowest cost \n",
    "path={}\n",
    "for i in enumerate(customers):\n",
    "    aux={}\n",
    "    aux_key=()\n",
    "    for j in enumerate(facilities):\n",
    "\n",
    "        #empty list for the Client\n",
    "        if not aux:\n",
    "            aux[(i[0],j[0])] = shipping_cost.get((i[0],j[0])) + setup_cost[j[0]]\n",
    "            aux_key = ((i[0],j[0])) \n",
    "            #print(aux)\n",
    "            #print(aux_key)\n",
    "        elif aux[aux_key]>(shipping_cost.get((i[0],j[0]))+ setup_cost[j[0]]):\n",
    "            #print(\"....\")\n",
    "            #print (i[0],j[0])\n",
    "            #print(aux[aux_key])\n",
    "            #print(shipping_cost.get((i[0],j[0])))\n",
    "            #print (\"  \")\n",
    "            aux.pop(aux_key)\n",
    "            aux[(i[0],j[0])] = shipping_cost.get((i[0],j[0])) + setup_cost[j[0]]            \n",
    "            aux_key = ((i[0],j[0]))\n",
    "            \n",
    "        #print(aux_key)\n",
    "    #print (\"xxxxxxx\")\n",
    "    path.update(aux)\n",
    "\n",
    "print(path)    \n",
    "\n",
    "#calculate the setup_cost\n",
    "facs=[]\n",
    "for i in path:\n",
    "    facs.append(i[1])\n",
    "facs=list(set(facs))\n",
    "print (\"facs: \",facs)\n",
    "\n",
    "totalC=0\n",
    "for w in facs:\n",
    "    totalC += setup_cost[w]\n",
    "    #print(w)\n",
    "\n",
    "print(totalC)\n",
    "\n",
    "#calculate the shipping cost\n",
    "for i in path.values():\n",
    "    print(i)\n",
    "    totalC += i \n",
    "    \n",
    "print(totalC)\n",
    "\n",
    "end = time.time()\n",
    "print(\"TIME IS: \",end - start)"
   ]
  },
  {
   "cell_type": "markdown",
   "metadata": {},
   "source": [
    "<a id='maxShipFix'></a>\n",
    "### Greatest Shipping & Fixed Costs Heuristic\n",
    "\n"
   ]
  },
  {
   "cell_type": "code",
   "execution_count": 10,
   "metadata": {},
   "outputs": [
    {
     "name": "stdout",
     "output_type": "stream",
     "text": [
      "{(0, 6): 6.5, (1, 0): 5.773084924772409}\n",
      "facs:  [0, 6]\n",
      "7\n",
      "6.5\n",
      "5.773084924772409\n",
      "19.27308492477241\n",
      "TIME IS:  0.0016210079193115234\n"
     ]
    }
   ],
   "source": [
    "#Get the Greatest shipping cost and greates fixed cost \n",
    "\n",
    "start = time.time()\n",
    "#choose the lowest cost \n",
    "path={}\n",
    "for i in enumerate(customers):\n",
    "    aux={}\n",
    "    aux_key=()\n",
    "    for j in enumerate(facilities):\n",
    "\n",
    "        #empty list for the Client\n",
    "        if not aux:\n",
    "            aux[(i[0],j[0])] = shipping_cost.get((i[0],j[0])) + setup_cost[j[0]]\n",
    "            aux_key = ((i[0],j[0])) \n",
    "            #print(aux)\n",
    "            #print(aux_key)\n",
    "        elif not aux[aux_key]>(shipping_cost.get((i[0],j[0]))+ setup_cost[j[0]]):\n",
    "            #print(\"....\")\n",
    "            #print (i[0],j[0])\n",
    "            #print(aux[aux_key])\n",
    "            #print(shipping_cost.get((i[0],j[0])))\n",
    "            #print (\"  \")\n",
    "            aux.pop(aux_key)\n",
    "            aux[(i[0],j[0])] = shipping_cost.get((i[0],j[0])) + setup_cost[j[0]]            \n",
    "            aux_key = ((i[0],j[0]))\n",
    "            \n",
    "        #print(aux_key)\n",
    "    #print (\"xxxxxxx\")\n",
    "    path.update(aux)\n",
    "\n",
    "print(path)    \n",
    "\n",
    "#calculate the setup_cost\n",
    "facs=[]\n",
    "for i in path:\n",
    "    facs.append(i[1])\n",
    "facs=list(set(facs))\n",
    "print (\"facs: \",facs)\n",
    "\n",
    "totalC=0\n",
    "for w in facs:\n",
    "    totalC += setup_cost[w]\n",
    "    #print(w)\n",
    "\n",
    "print(totalC)\n",
    "\n",
    "#calculate the shipping cost\n",
    "for i in path.values():\n",
    "    print(i)\n",
    "    totalC += i \n",
    "    \n",
    "print(totalC)\n",
    "\n",
    "end = time.time()\n",
    "print(\"TIME IS: \",end - start)"
   ]
  },
  {
   "cell_type": "code",
   "execution_count": 11,
   "metadata": {},
   "outputs": [
    {
     "name": "stdout",
     "output_type": "stream",
     "text": [
      "[3, 2, 3, 1, 3, 3, 4, 3, 2]\n",
      "{(0, 0): 1.5, (0, 1): 0.5, (0, 2): 0.5, (0, 3): 1.8027756377319946, (0, 4): 1.118033988749895, (0, 5): 1.118033988749895, (0, 6): 2.5, (0, 7): 2.0615528128088303, (0, 8): 2.0615528128088303, (1, 0): 2.773084924772409, (1, 1): 2.5079872407968904, (1, 2): 2.6248809496813377, (1, 3): 1.9209372712298547, (1, 4): 1.5132745950421556, (1, 5): 1.7, (1, 6): 1.3, (1, 7): 0.5385164807134504, (1, 8): 0.9433981132056605}\n"
     ]
    }
   ],
   "source": [
    "#customers = [(0,1.5), (2.5,1.2)]\n",
    "#facilities = [(0,0), (0,1), (0,2), (1,0), (1,1), (1,2), (2,0), (2,1), (2,2)]\n",
    "#print (facilities)\n",
    "#print (customers)\n",
    "\n",
    "##### Parameters #####\n",
    "#cost_per_mile = 1\n",
    "\n",
    "print (setup_cost)\n",
    "# shipping costs\n",
    "print (shipping_cost)\n"
   ]
  },
  {
   "cell_type": "code",
   "execution_count": null,
   "metadata": {},
   "outputs": [],
   "source": []
  }
 ],
 "metadata": {
  "kernelspec": {
   "display_name": "Python 3",
   "language": "python",
   "name": "python3"
  },
  "language_info": {
   "codemirror_mode": {
    "name": "ipython",
    "version": 3
   },
   "file_extension": ".py",
   "mimetype": "text/x-python",
   "name": "python",
   "nbconvert_exporter": "python",
   "pygments_lexer": "ipython3",
   "version": "3.7.9"
  }
 },
 "nbformat": 4,
 "nbformat_minor": 4
}
