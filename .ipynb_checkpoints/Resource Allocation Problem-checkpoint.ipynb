{
 "cells": [
  {
   "cell_type": "markdown",
   "metadata": {
    "slideshow": {
     "slide_type": "skip"
    }
   },
   "source": [
    "<img src=\"./img/logoconvexbrancomini2.png\"  align=\"right\"/>"
   ]
  },
  {
   "cell_type": "markdown",
   "metadata": {
    "slideshow": {
     "slide_type": "slide"
    },
    "toc-hr-collapsed": true
   },
   "source": [
    "<!--\n",
    "<img src=\"./img/logoconvexbrancomini2.png\"  align=\"right\"/>\n",
    "-->\n",
    "# Resource Allocation Problem\n",
    "\n",
    "<!--\n",
    "<img src=\"./img/logoboxverde.png\" align=\"right\"/>\n",
    "-->\n",
    "__by [Daniel Cinalli](http://www.cinalli.com.br)__ - DSc Artificial Intelligence\n",
    "\n",
    "## Resources and Routing\n"
   ]
  },
  {
   "cell_type": "markdown",
   "metadata": {
    "slideshow": {
     "slide_type": "slide"
    }
   },
   "source": [
    "\n",
    "<br/><br/> \n",
    "## Notes:\n",
    "\n",
    "* Coded in Python 3.x\n",
    "* Using [Anaconda](https://www.anaconda.com/) is recommended\n",
    "* Run the notebook `online` at [binder](https://mybinder.org/v2/gh/drcinalli/Artificial-Intelligence-and-Transformation/master) [![Binder](https://mybinder.org/badge_logo.svg)](https://mybinder.org/v2/gh/drcinalli/Artificial-Intelligence-and-Transformation/master)\n",
    "<!-- * [nbviewer](https://nbviewer.jupyter.org/) allows you to switch the notebooks \"slides\" mode-->"
   ]
  },
  {
   "cell_type": "markdown",
   "metadata": {
    "slideshow": {
     "slide_type": "slide"
    }
   },
   "source": [
    "<br> </br>\n",
    "### Table of Contents\n",
    "\n",
    "- [Operational Research](#or)\n",
    "- [Resource Allocation Problem](#FLP)\n",
    "- [Real Case](#real)\n",
    "- [Types of Resource Allocation Problems](#type)\n",
    "- [Problem Formulation](#prob)\n",
    "- [Complexity](#comp)\n",
    "- [References](#ref)\n",
    "- [Problem Instances](#instances)\n",
    "- [Experiments](#exp)\n",
    "\n",
    "\n",
    "<br>\n",
    "<br>\n"
   ]
  },
  {
   "cell_type": "markdown",
   "metadata": {
    "slideshow": {
     "slide_type": "slide"
    }
   },
   "source": [
    "\n",
    "<a id='or'></a>\n",
    "## Why Operational Research?\n",
    "\n",
    "\n",
    "<img align=right src=\"img/bigbang.png\" width=500/>\n",
    "\n",
    "> Process Efficiency\n",
    "        \n",
    "<br>  \n",
    "\n",
    "Many areas:\n",
    "\n",
    "* Agriculture - crops planning, quantity and quality to improve revenue\n",
    "* Engineering - aerodynamic shape optimization\n",
    "* Transportation - bus and train routes, scheduling, travel time, seat prices vs. demands\n",
    "* Manufacturing - transforming raw materials into products that maximize company revenue\n",
    "* Energy Industry - generators, transmission and distribution lines must be sustainable for profits\n",
    "        \n",
    "<br>\n",
    "<br>"
   ]
  },
  {
   "cell_type": "markdown",
   "metadata": {
    "slideshow": {
     "slide_type": "slide"
    }
   },
   "source": [
    "\n",
    "<a id='FLP'></a>\n",
    "## What is Resource Allocation Problem?\n",
    "\n",
    "<img align=right src=\"img/flp.png\" width=300/>\n",
    "\n",
    "\n",
    ">assignment of available facilities and resources to achieve an organization's strategic goals\n",
    "\n",
    "        \n",
    "<br>  \n",
    "\n",
    "The decision maker (DM) seeks for a combination of **minimum costs** or **max revenue**\n",
    "in terms of the asset and plants to be opened at certain locations in a manner that satisfies\n",
    "the demand of a set of clients.\n",
    "\n",
    "<br>\n",
    "<br>\n"
   ]
  },
  {
   "cell_type": "markdown",
   "metadata": {},
   "source": [
    "\n",
    "#### Areas of Application\n",
    "\n",
    "| **Areas**  |  |\n",
    "| ------ | ----------- |\n",
    "| manufacturing plants  | storage facilities |\n",
    "| bus stops   | equipment for oil spills |\n",
    "| warehouses   | vehicle routing |\n",
    "| fire stations   | hospitals |\n",
    "| government agencies  | military environment |\n",
    "\n",
    "\n",
    "\n",
    "<br>\n",
    "<br>"
   ]
  },
  {
   "cell_type": "markdown",
   "metadata": {},
   "source": [
    "\n",
    "\n",
    "\n",
    "#### Decision Factors\n",
    "\n",
    "\n",
    "\n",
    "| **Country and Region** | **Community and Site** |\n",
    "| ------ | ----------- |\n",
    "| Exchange rates   | Financial Service |\n",
    "| Culture   | Taxes |\n",
    "| Climate   | Land cost |\n",
    "| Commercial Travel   | Labor cost |\n",
    "| Governement stability   | Community inducements |\n",
    "| Economic stability   | Environment regulation |\n",
    "| Utilities   |  |\n",
    "| Construction and leasing costs   |  |\n",
    "| Raw material availability   |  |\n",
    "| Proximity of customers   |  |\n",
    "| Transportation Systems   |  |\n",
    "| Number of customers   |  |\n",
    "| Proximity of suppliers   |  |\n",
    "| Competitors' facilities   |  |\n",
    "| preferences   |  |\n",
    "\n",
    "\n",
    "<br>\n",
    "<br>"
   ]
  },
  {
   "cell_type": "markdown",
   "metadata": {},
   "source": [
    "\n",
    "<a id='real'></a>\n",
    "## Real Case\n",
    "\n",
    "<img align=right src=\"img/drone.jpeg\" width=500/>\n",
    "\n",
    "\n",
    "> Uber - Shaping Urban Aerial Ridesharing* <br>\n",
    "> Urban Drone\n",
    "        \n",
    "<br>  \n",
    "\n",
    "Improve urban mobility and delivery of items!\n",
    "Uber is developing shared air transportation planned for 2023 in Dallas, Los Angeles and other locations.\n",
    "Amazon (Amazon’s Prime Air) is also working on supplement our transport systems by moving things around. \n",
    "\n",
    "\n",
    "* Network Design – seeks to identify the optimal locations for Skyports, define capacity of docking stations, operate with No-Fly zones (constraints)\n",
    "\n",
    "* Vehicle Routing – seeks to optimize (maximize throughput, minimize downtime) the routing of vehicles to serve trips after the network has been designed: vehicle recharging, rider pooling\n",
    "\n",
    "\n",
    "\n",
    "\n",
    "<br>\n",
    "\n",
    "###### *source:<i>https://www.gurobi.com/customers/case-studies/</i>\n",
    "\n",
    "<br>\n",
    "<br>\n"
   ]
  },
  {
   "cell_type": "markdown",
   "metadata": {},
   "source": [
    "\n",
    "<a id='type'></a>\n",
    "## Types of Resource Allocation Problems\n",
    "\n",
    "<img align=right src=\"img/Q5j01.jpg\" width=400/>\n",
    "\n",
    "\n",
    "\n",
    "\n",
    "| **Types**    |\n",
    "| ------ |\n",
    "| Uncapacitated/Simple Facility Location Problem  |\n",
    "| Capacitated Facility Location Problem |\n",
    "|    |\n",
    "| Single Facility  |\n",
    "| Multi Facility  |\n",
    "|  |\n",
    "| Single Service Facility |\n",
    "| Multi Service Facility  |\n",
    "|  |\n",
    "| Fixed Cost  |\n",
    "| Variable Cost  |\n",
    "|  |\n",
    "| Discrete  |\n",
    "| Continuous  |\n",
    "| Network  |\n",
    "|  |\n",
    "| Dynamic  |\n",
    "|  |\n",
    "| Metric |\n",
    "| Non Metric  |\n",
    "\n",
    "\n",
    "\n",
    "<br>\n",
    "<br>\n"
   ]
  },
  {
   "cell_type": "markdown",
   "metadata": {},
   "source": [
    "\n",
    "<a id='prob'></a>\n",
    "## Problem Formulation - `Uncapacitated FLP`\n",
    "\n",
    "\n",
    "#### Sets and Indices\n",
    "\n",
    "$i \\in I$: Index and set of abstract candidate warehouse (or facility) locations\n",
    "\n",
    "$j \\in J$: Index and set of abstract customers (e.g supermarket, stores,...) locations\n",
    "\n",
    "\n",
    "#### Parameters\n",
    "\n",
    "$f_{i} \\in \\mathbb{R}^+$: Fixed cost associated with constructing facility $i \\in I$.\n",
    "\n",
    "$d_{i,j} \\in \\mathbb{R}^+$: Distance between facility $i \\in I$ and customer $j \\in J$.\n",
    "\n",
    "$c_{i,j} \\in \\mathbb{R}^+$: Cost of shipping between candidate facility site $i \\in I$ and customer location $j \\in J$. We assume that this cost is proportional to the distance between the facility and the customer. That is, $c_{i,j} = \\alpha \\cdot d_{i,j}$, where $\\alpha$ is the cost per mile of driving, adjusted to incorporate the average number of trips a delivery truck would be expected to make over a five year period.\n",
    "\n",
    "#### Decision Variables\n",
    "\n",
    "$x_{i} \\in \\{0, 1 \\}$: This variable is equal to 1 if we build a facility at candidate location $i \\in I$; and 0 otherwise.\n",
    "\n",
    "$0 \\leq y_{i,j} \\leq 1$: This non-negative continuous variable determines the fraction of supply received by customer $j \\in J$ from facility $i \\in I$.\n",
    "\n",
    "#### Objective Function\n",
    "\n",
    "- **Total costs**. We want to minimize the total cost to open and operate the facilities. This is the sum of the cost of opening facilities and the cost related to shipping between facilities and customers. This total cost measures the tradeoff between the cost of building a new facility and the total delivery cost.\n",
    "\n",
    "\\begin{equation}\n",
    "\\text{Min} \\quad Z = \\sum_{i \\in I} f_{i} \\cdot x_{i} + \\sum_{i \\in I} \\sum_{j \\in J} c_{i,j} \\cdot y_{i,j}\n",
    "\\tag{0}\n",
    "\\end{equation}\n",
    "\n",
    "#### Constraints\n",
    "\n",
    "- **Demand**. For each customer  $j \\in J$ ensure that its demand is fulfilled. That is, the sum of the fraction received from each facility for each customer must be equal to 1:\n",
    "\n",
    "\\begin{equation}\n",
    "\\sum_{i \\in I} y_{i,j} = 1 \\quad \\forall j \\in J\n",
    "\\tag{1}\n",
    "\\end{equation}\n",
    "\n",
    "- **Shipping**. We need to ensure that we  only ship from facility $i \\in I$,  if that facility has actually been built.\n",
    "\n",
    "\\begin{equation}\n",
    "y_{i,j} \\leq x_{i} \\quad \\forall i \\in I \\quad \\forall j \\in J\n",
    "\\tag{2}\n",
    "\\end{equation}"
   ]
  },
  {
   "cell_type": "markdown",
   "metadata": {},
   "source": [
    "## Problem Formulation - `Capacitated FLP`\n",
    "\n",
    "#### Sets and Indices\n",
    "\n",
    "$i \\in I$: Index and set of abstract candidate warehouse (or facility) locations\n",
    "\n",
    "$j \\in J$: Index and set of abstract customers (e.g supermarket, stores,...) locations\n",
    "\n",
    "\n",
    "#### Parameters\n",
    "\n",
    "$f_{i} \\in \\mathbb{R}^+$: Fixed cost associated with constructing facility $i \\in I$.\n",
    "\n",
    "$d_{i,j} \\in \\mathbb{R}^+$: Distance between facility $j \\in J$ and customer $i \\in I$.\n",
    "\n",
    "$c_{i,j} \\in \\mathbb{R}^+$: Cost of shipping between candidate facility site $i \\in I$ and customer location $j \\in J$. We assume that this cost is proportional to the distance between the facility and the customer. That is, $c_{i,j} = \\alpha \\cdot d_{i,j}$, where $\\alpha$ is the cost per mile of driving, adjusted to incorporate the average number of trips a delivery truck would be expected to make over a five year period.\n",
    "\n",
    "$g_{j} \\in \\mathbb{R}^+$: demand of customer $j \\in J$.\n",
    "\n",
    "$u_{i} \\in \\mathbb{R}^+$: max production of facility  $i \\in I$ (capacity).\n",
    "\n",
    "\n",
    "#### Decision Variables\n",
    "\n",
    "$x_{i} \\in \\{0, 1 \\}$: This variable is equal to 1 if we build a facility at candidate location $i \\in I$; and 0 otherwise.\n",
    "\n",
    "$0 \\leq y_{i,j} \\leq 1$: This non-negative continuous variable checks the total demand $g_{j}$ and determines the fraction of supply received by customer $j \\in J$ from facility $i \\in I$.\n",
    "\n",
    "#### Objective Function\n",
    "\n",
    "- **Total costs**. We want to minimize the total cost to open and operate the facilities. This is the sum of the cost of opening facilities and the cost related to shipping between facilities and customers. This total cost measures the tradeoff between the cost of building a new facility and the total delivery cost.\n",
    "\n",
    "\\begin{equation}\n",
    "\\text{Min} \\quad Z = \\sum_{i \\in I} f_{i} \\cdot x_{i} + \\sum_{i \\in I} \\sum_{j \\in J} c_{i,j} \\cdot g_{j} \\cdot y_{i,j}\n",
    "\\tag{0}\n",
    "\\end{equation}\n",
    "\n",
    "#### Constraints\n",
    "\n",
    "- **Demand**. For each customer  $j \\in J$ ensure that its demand is fulfilled. That is, the sum of the fraction received from each facility for each customer must be equal to 1:\n",
    "\n",
    "\\begin{equation}\n",
    "\\sum_{i \\in I} y_{i,j} = 1 \\quad \\forall j \\in J\n",
    "\\tag{1}\n",
    "\\end{equation}\n",
    "\n",
    "- **Capacity**. The facility production is limited by its own capacity, therefore it cannot supply more items than its capacity. \n",
    "\n",
    "\\begin{equation}\n",
    "\\sum_{j \\in J}  g_{j} \\cdot y_{i,j} \\leq  u_{i} \\cdot x_{i} \\quad \\forall i \\in I\n",
    "\\tag{1}\n",
    "\\end{equation}\n",
    "\n",
    "\n",
    "- **Shipping**. We need to ensure that we  only ship from facility $i \\in I$,  if that facility has actually been built.\n",
    "\n",
    "\\begin{equation}\n",
    "y_{i,j} \\leq x_{i} \\quad \\forall i \\in I \\quad \\forall j \\in J\n",
    "\\tag{3}\n",
    "\\end{equation}"
   ]
  },
  {
   "cell_type": "markdown",
   "metadata": {},
   "source": [
    "<a id='comp'></a>\n",
    "## Complexity\n",
    "\n",
    "The facility location problem on general graphs is `NP-hard` to solve optimally, by reduction from (for example) the set cover problem.\n",
    "\n",
    "\n",
    "<br>\n",
    "<br>\n",
    "\n"
   ]
  },
  {
   "cell_type": "markdown",
   "metadata": {},
   "source": [
    "\n",
    "<a id='ref'></a>\n",
    "## References\n",
    "\n",
    "\n",
    "Drezner, Zvi, and Horst W. Hamacher<br>\n",
    "**Facility location: applications and theory**<br>\n",
    "Springer Science & Business Media, 2001\n",
    "\n",
    "Klose, Andreas, and Andreas Drexl <br>\n",
    "**Facility location models for distribution system design** <br>\n",
    "European journal of operational research 162, no. 1 (2005): 4-29\n",
    "\n",
    "Arifin, Shamsul<br>\n",
    "**Location allocation problem using genetic algorithm and simulated annealing. A case study based on school in Enschede** <br>\n",
    "Master’s Thesis, The Netherlands (2011).\n",
    "\n",
    "Karp, Richard M.<br>\n",
    "**Reducibility among combinatorial problems**<br>\n",
    "In Complexity of computer computations, pp. 85-103. Springer, Boston, MA, 1972.\n",
    "\n",
    "Johnson, David S. <br>\n",
    "**Approximation algorithms for combinatorial problems** <br>\n",
    "Journal of computer and system sciences 9, no. 3 (1974): 256-278.\n",
    "\n",
    "Gurobi <br>\n",
    "**Case Studies** <br>\n",
    "https://www.gurobi.com/customers/case-studies/ <br>\n",
    "(accessed November 27, 2020)\n",
    "\n",
    "\n",
    "\n"
   ]
  },
  {
   "cell_type": "markdown",
   "metadata": {},
   "source": [
    "<a id='instances'></a>\n",
    "## Problem Instances\n",
    "\n",
    "<img align=right src=\"img/ds.png\" width=700/>\n",
    "\n",
    "\n",
    "\n",
    "* OR-Library - data sets for Operations Research **(100+)** <br>\n",
    "http://people.brunel.ac.uk/~mastjjb/jeb/info.html\n",
    "\n",
    "* Discrete Location Problems Benchmark Library **(100+)**<br>\n",
    "http://www.math.nsc.ru/AP/benchmarks/english.html\n",
    "\n",
    "\n",
    "\n",
    "\n"
   ]
  },
  {
   "cell_type": "markdown",
   "metadata": {},
   "source": [
    "\n",
    "<a id='exp'></a>\n",
    "## Experiments\n",
    "\n",
    "\n",
    "Solution:\n",
    "\n",
    "* Simplex (exact)\n",
    "* Nearest Neighbour Heuristic (constructive-greedy)\n",
    "* Nearest Neighbour Heuristic with Backtracking (constructive)\n",
    "* Nearest Insertion (constructive-greedy)\n",
    "* Farest Insertion (constructive)\n",
    "* Cheapest Insertion (constructive-greedy)\n",
    "* Biggest Angle Insertion (constructive)\n",
    "* Economic Insertion (constructive)\n",
    "* Arvore Geradora Mínima\n",
    "* xxx (local)\n",
    "* xxx (metaheuristic)\n",
    "\n",
    "\n",
    "<br>\n",
    "<br>\n",
    "\n",
    "(todos com eliminacao das outras)\n",
    "guloso perto\n",
    "guloso longe\n",
    "de maior grau\n",
    "de maior capacidade (CFL)\n",
    "de menor custo \n",
    "de maior custo "
   ]
  },
  {
   "cell_type": "markdown",
   "metadata": {},
   "source": [
    "#### Experiment #1: uncapacitated facility location - UFL\n",
    "\n",
    "<br>\n",
    "$|I| = 9$ \n",
    "\n",
    "$|J| = 2$ \n",
    "\n",
    "$\\alpha = 1$ (cost per mile of driving)\n",
    "\n",
    "\n",
    "| <i></i> | Coordinates |  \n",
    "| --- | --- | \n",
    "| Client 1 | (0,1.5) |\n",
    "| Client 2 | (2.5,1.2) |\n",
    "\n",
    "\n",
    "\n",
    "| <i></i> | coordinates | fixed cost |\n",
    "| --- | --- |  --- |\n",
    "| Warehouse 1 | (0,0) | 3 |\n",
    "| Warehouse 2 | (0,1) | 2 |\n",
    "| Warehouse 3 | (0,2) | 3 |\n",
    "| Warehouse 4 | (1,0) | 1 |\n",
    "| Warehouse 5 | (1,1) | 3 | \n",
    "| Warehouse 6 | (1,2) | 3 |\n",
    "| Warehouse 7 | (2,0) | 4 |\n",
    "| Warehouse 8 | (2,1) | 3 |  \n",
    "| Warehouse 9 | (2,2) | 2 |\n",
    "\n",
    "\n",
    "<br> \n",
    "<br>\n"
   ]
  },
  {
   "cell_type": "markdown",
   "metadata": {},
   "source": [
    "##### #1: Simplex"
   ]
  },
  {
   "cell_type": "code",
   "execution_count": 4,
   "metadata": {},
   "outputs": [
    {
     "name": "stdout",
     "output_type": "stream",
     "text": [
      "Using license file /Users/danielcinalli/gurobi.lic\n",
      "Academic license - for non-commercial use only - expires 2021-01-27\n",
      "Gurobi Optimizer version 9.1.0 build v9.1.0rc0 (mac64)\n",
      "Thread count: 2 physical cores, 4 logical processors, using up to 4 threads\n",
      "Optimize a model with 20 rows, 27 columns and 54 nonzeros\n",
      "Model fingerprint: 0x0939f503\n",
      "Variable types: 18 continuous, 9 integer (9 binary)\n",
      "Coefficient statistics:\n",
      "  Matrix range     [1e+00, 1e+00]\n",
      "  Objective range  [5e-01, 4e+00]\n",
      "  Bounds range     [1e+00, 1e+00]\n",
      "  RHS range        [1e+00, 1e+00]\n",
      "Presolve time: 0.07s\n",
      "Presolved: 20 rows, 27 columns, 54 nonzeros\n",
      "Variable types: 18 continuous, 9 integer (9 binary)\n",
      "\n",
      "Root relaxation: objective 4.723713e+00, 15 iterations, 0.02 seconds\n",
      "\n",
      "    Nodes    |    Current Node    |     Objective Bounds      |     Work\n",
      " Expl Unexpl |  Obj  Depth IntInf | Incumbent    BestBd   Gap | It/Node Time\n",
      "\n",
      "*    0     0               0       4.7237129    4.72371  0.00%     -    0s\n",
      "\n",
      "Explored 0 nodes (15 simplex iterations) in 0.18 seconds\n",
      "Thread count was 4 (of 4 available processors)\n",
      "\n",
      "Solution count 1: 4.72371 \n",
      "\n",
      "Optimal solution found (tolerance 1.00e-04)\n",
      "Best objective 4.723712908962e+00, best bound 4.723712908962e+00, gap 0.0000%\n"
     ]
    }
   ],
   "source": [
    "from itertools import product\n",
    "from math import sqrt\n",
    "import gurobipy as gp\n",
    "from gurobipy import GRB\n",
    "\n",
    "\n",
    "##### Sets and Indices #####\n",
    "customers = [(0,1.5), (2.5,1.2)]\n",
    "facilities = [(0,0), (0,1), (0,2), (1,0), (1,1), (1,2), (2,0), (2,1), (2,2)]\n",
    "num_facilities = len(facilities)\n",
    "num_customers = len(customers)\n",
    "\n",
    "##### Parameters #####\n",
    "cost_per_mile = 13,2,3,1,3,3,4,3,2]\n",
    "\n",
    "setup_cost = [\n",
    "# Euclidean distance between a facility and customer sites\n",
    "def compute_distance(loc1, loc2):\n",
    "    dx = loc1[0] - loc2[0]\n",
    "    dy = loc1[1] - loc2[1]\n",
    "    return sqrt(dx*dx + dy*dy)\n",
    "\n",
    "cartesian_prod = list(product(range(num_customers), range(num_facilities)))\n",
    "# shipping costs\n",
    "shipping_cost = {(c,f): cost_per_mile*compute_distance(customers[c], facilities[f]) for c, f in cartesian_prod}\n",
    "\n",
    "\n",
    "# MIP  model formulation\n",
    "m = gp.Model('UFL')\n",
    "\n",
    "\n",
    "##### Decision Variable #####\n",
    "x = m.addVars(num_facilities, vtype=GRB.BINARY, name='x')\n",
    "y = m.addVars(cartesian_prod, ub=1, vtype=GRB.CONTINUOUS, name='y')\n",
    "\n",
    "##### Constraints #####\n",
    "m.addConstrs((y[(c,f)] <= x[f] for c,f in cartesian_prod), name='Shipping')\n",
    "m.addConstrs((gp.quicksum(y[(c,f)] for f in range(num_facilities)) == 1 for c in range(num_customers)), name='Demand')\n",
    "\n",
    "##### Objective Function #####\n",
    "m.setObjective(x.prod(setup_cost)+y.prod(shipping_cost), GRB.MINIMIZE)\n",
    "\n",
    "m.optimize()"
   ]
  },
  {
   "cell_type": "code",
   "execution_count": 13,
   "metadata": {},
   "outputs": [
    {
     "name": "stdout",
     "output_type": "stream",
     "text": [
      "\n",
      "Build a warehouse at location 4.\n",
      "\n",
      "Client 1 receives 100.0 % of its demand  from Warehouse 4 .\n",
      "\n",
      "Client 2 receives 100.0 % of its demand  from Warehouse 4 .\n",
      "\n",
      "Optimal total: 4.72371290896185\n"
     ]
    }
   ],
   "source": [
    "# display optimal values of decision variables\n",
    "\n",
    "for facility in x.keys():\n",
    "    if (abs(x[facility].x) > 1e-6):\n",
    "        print(f\"\\nBuild a warehouse at location {facility + 1}.\")\n",
    "\n",
    "# Shipments from facilities to customers.\n",
    "\n",
    "for customer, facility in y.keys():\n",
    "    if (abs(y[customer, facility].x) > 1e-6):\n",
    "        print(f\"\\nClient {customer + 1} receives {round(100*y[customer, facility].x, 2)} % of its demand  from Warehouse {facility + 1} .\")\n",
    "\n",
    "#for v in m.getVars():\n",
    "#    print(v.varname, v.x)\n",
    "\n",
    "print(f\"\\nOptimal total:\", m.objVal)\n",
    "\n",
    "m.write('UFP.lp')"
   ]
  },
  {
   "cell_type": "markdown",
   "metadata": {},
   "source": [
    "##### #1: Constructive"
   ]
  },
  {
   "cell_type": "markdown",
   "metadata": {},
   "source": [
    "heuristic A"
   ]
  },
  {
   "cell_type": "markdown",
   "metadata": {},
   "source": [
    "heuristic B"
   ]
  },
  {
   "cell_type": "markdown",
   "metadata": {},
   "source": [
    "Exp#2 Benchmark A"
   ]
  },
  {
   "cell_type": "code",
   "execution_count": null,
   "metadata": {},
   "outputs": [],
   "source": []
  }
 ],
 "metadata": {
  "kernelspec": {
   "display_name": "Python 3",
   "language": "python",
   "name": "python3"
  },
  "language_info": {
   "codemirror_mode": {
    "name": "ipython",
    "version": 3
   },
   "file_extension": ".py",
   "mimetype": "text/x-python",
   "name": "python",
   "nbconvert_exporter": "python",
   "pygments_lexer": "ipython3",
   "version": "3.7.6"
  }
 },
 "nbformat": 4,
 "nbformat_minor": 4
}
