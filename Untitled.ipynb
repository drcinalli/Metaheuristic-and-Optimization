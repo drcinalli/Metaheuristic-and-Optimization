{
 "cells": [
  {
   "cell_type": "markdown",
   "metadata": {
    "slideshow": {
     "slide_type": "skip"
    }
   },
   "source": [
    "<img src=\"./img/logoconvexbrancomini2.png\"  align=\"right\"/>"
   ]
  },
  {
   "cell_type": "markdown",
   "metadata": {
    "slideshow": {
     "slide_type": "skip"
    }
   },
   "source": [
    "<img src=\"./img/logoboxverde.png\" align=\"right\"/>\n",
    "<br>\n"
   ]
  },
  {
   "cell_type": "markdown",
   "metadata": {
    "slideshow": {
     "slide_type": "slide"
    },
    "toc-hr-collapsed": true
   },
   "source": [
    "<!--\n",
    "<img src=\"./img/logoconvexbrancomini2.png\"  align=\"right\"/>\n",
    "-->\n",
    "# Facility Location Problem\n",
    "\n",
    "<!--\n",
    "<img src=\"./img/logoboxverde.png\" align=\"right\"/>\n",
    "-->\n",
    "__by [Daniel Cinalli](http://www.cinalli.com.br)__ - DSc Artificial Intelligence\n",
    "\n",
    "## Resources and Routing\n"
   ]
  },
  {
   "cell_type": "markdown",
   "metadata": {
    "slideshow": {
     "slide_type": "slide"
    }
   },
   "source": [
    "\n",
    "<br/><br/> \n",
    "## Notes:\n",
    "\n",
    "* Coded in Python 3.x\n",
    "* Using [Anaconda](https://www.anaconda.com/) is recommended\n",
    "* Run the notebook `online` at [binder](https://mybinder.org/v2/gh/drcinalli/Artificial-Intelligence-and-Transformation/master) [![Binder](https://mybinder.org/badge_logo.svg)](https://mybinder.org/v2/gh/drcinalli/Artificial-Intelligence-and-Transformation/master)\n",
    "<!-- * [nbviewer](https://nbviewer.jupyter.org/) allows you to switch the notebooks \"slides\" mode-->"
   ]
  },
  {
   "cell_type": "markdown",
   "metadata": {
    "slideshow": {
     "slide_type": "slide"
    }
   },
   "source": [
    "<br> </br>\n",
    "### Table of Contents\n",
    "\n",
    "- [111?](#whatisacomputer)\n",
    "- [222](#ComputerKnowledge)\n",
    "\n",
    "<br> <br>\n"
   ]
  },
  {
   "cell_type": "markdown",
   "metadata": {
    "slideshow": {
     "slide_type": "slide"
    }
   },
   "source": [
    "<a id='whatisacomput'></a>\n",
    "## What is Facility Location?\n",
    "\n",
    "\n",
    "<img align=right src=\"img/turing.jpg\" width=300/>\n",
    "\n",
    ">xx\n",
    "        \n",
    "<br>  \n",
    "\n",
    "xxx:\n",
    "\n",
    "* sinonimo e OR\n",
    "* what*\n",
    "* goal*\n",
    "        \n",
    "<br>\n",
    "<br>\n",
    "\n",
    "###### * Summit 150 petaFLOPS (quadrillion floating point operations); i7 200 gigaFLOPS (billion per second) <i>- in 2019</i>\n",
    "###### ** Cloud storage (exabyte or zettabyte?)  <i>- in 2019</i>\n",
    "###### bit > bite > kilobyte > megabyte > gigabyte > terabyte > petabyte > exabyte > zettabyte > ..."
   ]
  },
  {
   "cell_type": "code",
   "execution_count": 4,
   "metadata": {},
   "outputs": [],
   "source": [
    "import pulp as plp\n",
    "opt_model = plp.LpProblem(name=\"MIP Model\")\n",
    "\n"
   ]
  },
  {
   "cell_type": "code",
   "execution_count": null,
   "metadata": {},
   "outputs": [],
   "source": [
    "\n",
    "# if x is Integer\n",
    "x_vars  = {(i,j):\n",
    "plp.LpVariable(cat=plp.LpInteger, \n",
    "               lowBound=l[i,j], upBound= u[i,j],\n",
    "               name=\"x_{0}_{1}\".format(i,j)) \n",
    "for i in set_I for j in set_J}\n"
   ]
  },
  {
   "cell_type": "markdown",
   "metadata": {},
   "source": [
    "\n",
    "<p align=\"center\">\n",
    "<img src=\"docs/_static/images/pysal_banner.svg\" width=\"370\" height=\"200\" />\n",
    "</p>\n",
    "\n",
    "# `spopt`: Spatial Optimization\n",
    "\n",
    "#### Regionalization, facility location, and transportation-oriented modeling\n",
    "\n",
    "Spopt is an open-source Python library for solving optimization problem with spatial data. Originating from the `region` module in [PySAL (Python Spatial Analysis Library)](http://pysal.org), it is under active development for the inclusion of newly proposed models and methods for regionalization, facility location, and transportation-oriented solutions. \n",
    "\n",
    "\n",
    "```python\n",
    "import spopt, libpysal, geopandas, numpy\n",
    "mexico = geopandas.read_file(libpysal.examples.get_path(\"mexicojoin.shp\"))\n",
    "mexico[\"count\"] = 1\n",
    "attrs = [f\"PCGDP{year}\" for year in range(1950, 2010, 10)]\n",
    "w = libpysal.weights.Queen.from_dataframe(mexico)\n",
    "mexico[\"count\"], threshold_name, threshold, top_n  = 1, \"count\", 4, 2\n",
    "numpy.random.seed(123456)\n",
    "model = spopt.MaxPHeuristic(mexico, w, attrs, threshold_name, threshold, top_n)\n",
    "model.solve()\n",
    "mexico[\"maxp_new\"] = model.labels_\n",
    "mexico.plot(column=\"maxp_new\", categorical=True, figsize=(12,8), ec=\"w\");\n",
    "```\n",
    "<p align=\"center\">\n",
    "<img src=\"docs/_static/images/maxp.svg\" height=\"350\" />\n",
    "</p>"
   ]
  },
  {
   "cell_type": "code",
   "execution_count": null,
   "metadata": {},
   "outputs": [],
   "source": []
  }
 ],
 "metadata": {
  "kernelspec": {
   "display_name": "Python 3",
   "language": "python",
   "name": "python3"
  },
  "language_info": {
   "codemirror_mode": {
    "name": "ipython",
    "version": 3
   },
   "file_extension": ".py",
   "mimetype": "text/x-python",
   "name": "python",
   "nbconvert_exporter": "python",
   "pygments_lexer": "ipython3",
   "version": "3.7.6"
  }
 },
 "nbformat": 4,
 "nbformat_minor": 4
}
